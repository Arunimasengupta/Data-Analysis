{
  "nbformat": 4,
  "nbformat_minor": 0,
  "metadata": {
    "colab": {
      "name": "Data Visualization using Matplotlib.ipynb",
      "provenance": [],
      "collapsed_sections": [],
      "include_colab_link": true
    },
    "kernelspec": {
      "name": "python3",
      "display_name": "Python 3"
    },
    "language_info": {
      "name": "python"
    }
  },
  "cells": [
    {
      "cell_type": "markdown",
      "metadata": {
        "id": "view-in-github",
        "colab_type": "text"
      },
      "source": [
        "<a href=\"https://colab.research.google.com/github/Arunimasengupta/Data-Analysis/blob/master/Data_Visualization_using_Matplotlib.ipynb\" target=\"_parent\"><img src=\"https://colab.research.google.com/assets/colab-badge.svg\" alt=\"Open In Colab\"/></a>"
      ]
    },
    {
      "cell_type": "markdown",
      "metadata": {
        "id": "NgayMd7cK3U6"
      },
      "source": [
        "---\n",
        "# **Data Visualization using Matplotlib**\n",
        "---\n",
        "### Data Visualization\n",
        "1. Graphical representation of information and data\n",
        "2. Graph, Chart, and Map make it easier to understand the patterns in data\n",
        "3. Matplotlib is a comprehensive library for creating static, animated, and interactive visualizations in Python.\n",
        "4. Seaborn is a Python data visualization library based on matplotlib. It provides a high-level interface for drawing attractive and informative statistical graphics.\n",
        "\n",
        "##### Self Learning Resource\n",
        "1. Matplotlib: <a href=\"https://matplotlib.org/stable/gallery/index.html\"> Examples</a>\n",
        "2. Seaborn: <a href=\"https://seaborn.pydata.org/examples/index.html\"> Examples</a>\n",
        "3. Data visualization using matplotlib, seaborn, plotly - <a href=\"https://www.kaggle.com/abhishekvaid19968/data-visualization-using-matplotlib-seaborn-plotly\"> Click Here </a>\n",
        " "
      ]
    },
    {
      "cell_type": "markdown",
      "source": [
        "---\n",
        "# **Import matplolib**\n",
        "---"
      ],
      "metadata": {
        "id": "JT3kqhZja3dI"
      }
    },
    {
      "cell_type": "code",
      "metadata": {
        "id": "e4JFo1WM8ZON"
      },
      "source": [
        "import matplotlib.pyplot as plt"
      ],
      "execution_count": 20,
      "outputs": []
    },
    {
      "cell_type": "markdown",
      "metadata": {
        "id": "EOp1wf9hlyC2"
      },
      "source": [
        "---\n",
        "# **1. Line plot**\n",
        "---\n",
        "### **1.1 Plot a line**"
      ]
    },
    {
      "cell_type": "code",
      "metadata": {
        "id": "sk_6l4N6l-vH",
        "colab": {
          "base_uri": "https://localhost:8080/",
          "height": 265
        },
        "outputId": "71cad41e-3618-4703-f78e-fad3546d28e0"
      },
      "source": [
        "x = [0, 1, 2, 3, 4, 5, 6]\n",
        "y = [i **2 for i in x ]\n",
        "\n",
        "plt.plot(x, y)\n",
        "\n",
        "plt.show()"
      ],
      "execution_count": 2,
      "outputs": [
        {
          "output_type": "display_data",
          "data": {
            "text/plain": [
              "<Figure size 432x288 with 1 Axes>"
            ],
            "image/png": "[encoded data removed]"
          },
          "metadata": {
            "needs_background": "light"
          }
        }
      ]
    },
    {
      "cell_type": "markdown",
      "metadata": {
        "id": "iGXiAQqI4AvC"
      },
      "source": [
        "\n",
        "---\n",
        "### **1.2 To save plot in a file**\n",
        "---"
      ]
    },
    {
      "cell_type": "code",
      "metadata": {
        "id": "o-kCSsW7lxNF",
        "colab": {
          "base_uri": "https://localhost:8080/",
          "height": 265
        },
        "outputId": "8b301bc7-595e-472c-f95b-204864677ec3"
      },
      "source": [
        "x = [0, 1, 2, 3, 4, 5, 6]\n",
        "y = [i **2 for i in x ]\n",
        "\n",
        "plt.plot(x, y)\n",
        "\n",
        "plt.savefig(\"testImage.png\", dpi=100)\n",
        "#plt.savefig(\"testImage.jpg\", dpi=300)#dpi=dotsperinch\n",
        "\n",
        "plt.show()\n",
        "\n",
        "#/content/testImage.png"
      ],
      "execution_count": 3,
      "outputs": [
        {
          "output_type": "display_data",
          "data": {
            "text/plain": [
              "<Figure size 432x288 with 1 Axes>"
            ],
            "image/png": "[encoded data removed]"
          },
          "metadata": {
            "needs_background": "light"
          }
        }
      ]
    },
    {
      "cell_type": "markdown",
      "metadata": {
        "id": "DOZfIRp04ZvM"
      },
      "source": [
        "\n",
        "---\n",
        "### **1.3 Download image to local**\n",
        "---"
      ]
    },
    {
      "cell_type": "code",
      "metadata": {
        "colab": {
          "base_uri": "https://localhost:8080/",
          "height": 34
        },
        "id": "BuJp15Fd4ZvS",
        "outputId": "a24be06d-77e8-4b16-ef7f-6686aa088040"
      },
      "source": [
        "from google.colab import files\n",
        "files.download('testImage.png')"
      ],
      "execution_count": 4,
      "outputs": [
        {
          "output_type": "display_data",
          "data": {
            "text/plain": [
              "<IPython.core.display.Javascript object>"
            ],
            "application/javascript": [
              "\n",
              "    async function download(id, filename, size) {\n",
              "      if (!google.colab.kernel.accessAllowed) {\n",
              "        return;\n",
              "      }\n",
              "      const div = document.createElement('div');\n",
              "      const label = document.createElement('label');\n",
              "      label.textContent = `Downloading \"${filename}\": `;\n",
              "      div.appendChild(label);\n",
              "      const progress = document.createElement('progress');\n",
              "      progress.max = size;\n",
              "      div.appendChild(progress);\n",
              "      document.body.appendChild(div);\n",
              "\n",
              "      const buffers = [];\n",
              "      let downloaded = 0;\n",
              "\n",
              "      const channel = await google.colab.kernel.comms.open(id);\n",
              "      // Send a message to notify the kernel that we're ready.\n",
              "      channel.send({})\n",
              "\n",
              "      for await (const message of channel.messages) {\n",
              "        // Send a message to notify the kernel that we're ready.\n",
              "        channel.send({})\n",
              "        if (message.buffers) {\n",
              "          for (const buffer of message.buffers) {\n",
              "            buffers.push(buffer);\n",
              "            downloaded += buffer.byteLength;\n",
              "            progress.value = downloaded;\n",
              "          }\n",
              "        }\n",
              "      }\n",
              "      const blob = new Blob(buffers, {type: 'application/binary'});\n",
              "      const a = document.createElement('a');\n",
              "      a.href = window.URL.createObjectURL(blob);\n",
              "      a.download = filename;\n",
              "      div.appendChild(a);\n",
              "      a.click();\n",
              "      div.remove();\n",
              "    }\n",
              "  "
            ]
          },
          "metadata": {}
        },
        {
          "output_type": "display_data",
          "data": {
            "text/plain": [
              "<IPython.core.display.Javascript object>"
            ],
            "application/javascript": [
              "download(\"download_cfbae49e-6a41-4a29-aaaa-112df9ced811\", \"testImage.png\", 15108)"
            ]
          },
          "metadata": {}
        }
      ]
    },
    {
      "cell_type": "markdown",
      "metadata": {
        "id": "z1uDaVtK5tX_"
      },
      "source": [
        "---\n",
        "### **1.4 Plot a line with details**\n",
        "---"
      ]
    },
    {
      "cell_type": "code",
      "metadata": {
        "id": "aDsOjDWs5tYB",
        "colab": {
          "base_uri": "https://localhost:8080/",
          "height": 295
        },
        "outputId": "66c18c5b-f510-439c-9e55-16b0a11e278d"
      },
      "source": [
        "x = [5, 2, 7]\n",
        "y = [2, 16, 4]\n",
        "\n",
        "plt.plot(x, y)\n",
        "#plt.plot(y,x)\n",
        "\n",
        "plt.title('This is tittle')\n",
        "plt.ylabel('Y axis')\n",
        "plt.xlabel('X axis')\n",
        "\n",
        "plt.show()"
      ],
      "execution_count": 22,
      "outputs": [
        {
          "output_type": "display_data",
          "data": {
            "text/plain": [
              "<Figure size 432x288 with 1 Axes>"
            ],
            "image/png": "[encoded data removed]"
          },
          "metadata": {
            "needs_background": "light"
          }
        }
      ]
    },
    {
      "cell_type": "markdown",
      "metadata": {
        "id": "4CAypM6A5Jmx"
      },
      "source": [
        "---\n",
        "### **1.5 Plot multiple lines**\n",
        "---"
      ]
    },
    {
      "cell_type": "code",
      "metadata": {
        "id": "EzB8G_a95d4X",
        "colab": {
          "base_uri": "https://localhost:8080/",
          "height": 295
        },
        "outputId": "0d71931e-0bd1-43a5-9127-94bbb3f3c45c"
      },
      "source": [
        "x  = [1, 2, 3, 4, 5]\n",
        "y1 = [50, 40, 70, 80, 20]\n",
        "y2 = [80, 20, 20, 50, 60]\n",
        "y3 = [70, 20, 60, 40, 60]\n",
        "y4 = [80, 20, 20, 50, 60]\n",
        "\n",
        "plt.plot(x, y1, 'g', label='Enfield', linewidth=2)\n",
        "plt.plot(x, y2, 'c', label='Honda', linewidth=1)\n",
        "plt.plot(x, y3, 'k', label='Yahama', linewidth=3)\n",
        "plt.plot(x, y4, 'y', label='KTM', linewidth=2)\n",
        "\n",
        "plt.title('Bike details in line plot')\n",
        "plt.ylabel('Distance in kms')\n",
        "plt.xlabel('Days')\n",
        "\n",
        "plt.legend()           #Adding Legends\n",
        "\n",
        "plt.show()"
      ],
      "execution_count": 24,
      "outputs": [
        {
          "output_type": "display_data",
          "data": {
            "text/plain": [
              "<Figure size 432x288 with 1 Axes>"
            ],
            "image/png": "[encoded data removed]"
          },
          "metadata": {
            "needs_background": "light"
          }
        }
      ]
    },
    {
      "cell_type": "markdown",
      "metadata": {
        "id": "2B0qQKsofW8j"
      },
      "source": [
        "---\n",
        "### **1.6 Mini Project-3 Plot** (Time taken to convert text file to upper case)\n",
        "---"
      ]
    },
    {
      "cell_type": "code",
      "metadata": {
        "colab": {
          "base_uri": "https://localhost:8080/",
          "height": 295
        },
        "outputId": "8d9d6897-cd6e-4e4e-c9bd-5d72883d85eb",
        "id": "FtLIb8_TfW8k"
      },
      "source": [
        "x  = [1, 2, 3, 4, 5]\n",
        "y1 = [50, 60, 70, 80, 90]\n",
        "y2 = [52, 63, 74, 85, 96]\n",
        "y3 = [54, 66, 78, 90, 102]\n",
        "y4 = [60, 75, 95, 120, 150]\n",
        "y5 = [65, 85, 105, 135, 185]\n",
        "\n",
        "plt.plot(x, y1, 'g', label='C', linewidth=2)\n",
        "plt.plot(x, y2, 'c', label='C++', linewidth=1)\n",
        "plt.plot(x, y3, 'k', label='Java', linewidth=3)\n",
        "plt.plot(x, y4, 'y', label='Perl', linewidth=2)\n",
        "plt.plot(x, y5, 'r', label='Python', linewidth=2)\n",
        "\n",
        "plt.title('Performance of Different Programming Languages')\n",
        "plt.ylabel('Time Taken (sec)')\n",
        "plt.xlabel('File Size (GB)')\n",
        "\n",
        "plt.legend()           #Adding Legends\n",
        "\n",
        "plt.show()"
      ],
      "execution_count": 7,
      "outputs": [
        {
          "output_type": "display_data",
          "data": {
            "text/plain": [
              "<Figure size 432x288 with 1 Axes>"
            ],
            "image/png": "[encoded data removed]"
          },
          "metadata": {
            "needs_background": "light"
          }
        }
      ]
    },
    {
      "cell_type": "markdown",
      "metadata": {
        "id": "VCXIhMtP-puV"
      },
      "source": [
        "---\n",
        "# **2. Bar plot**\n",
        "---\n",
        "### **2.1 Plot a bar chart**"
      ]
    },
    {
      "cell_type": "code",
      "metadata": {
        "colab": {
          "base_uri": "https://localhost:8080/",
          "height": 265
        },
        "id": "ESdyGeh9-puX",
        "outputId": "ed7f2895-2edf-4353-9539-3c5cc1aead10"
      },
      "source": [
        "x = [50, 60, 30, 70, 20]\n",
        "y = [\"A\", \"B\", \"C\", \"D\", \"E\"]\n",
        "\n",
        "plt.bar(y, x, color = \"pink\")\n",
        "\n",
        "plt.show()"
      ],
      "execution_count": 26,
      "outputs": [
        {
          "output_type": "display_data",
          "data": {
            "text/plain": [
              "<Figure size 432x288 with 1 Axes>"
            ],
            "image/png": "[encoded data removed]"
          },
          "metadata": {
            "needs_background": "light"
          }
        }
      ]
    },
    {
      "cell_type": "markdown",
      "metadata": {
        "id": "rd_F8ksi-puZ"
      },
      "source": [
        "---\n",
        "### **2.2 Plot a bar chart with details**\n",
        "---"
      ]
    },
    {
      "cell_type": "code",
      "metadata": {
        "colab": {
          "base_uri": "https://localhost:8080/",
          "height": 295
        },
        "id": "_U_Of2tu-puZ",
        "outputId": "01db4f39-77e3-46fb-c5d0-5eb1b52ac7ae"
      },
      "source": [
        "import random as r\n",
        "\n",
        "x = [ r.randint(35,95) for i in range(5)]\n",
        "y = [\"A\", \"B\", \"C\", \"D\", \"E\"]\n",
        "\n",
        "plt.bar(y, x, color = \"blue\")\n",
        "\n",
        "plt.title('Student Performance in EST')\n",
        "plt.ylabel('Marks in EST')\n",
        "plt.xlabel('Student')\n",
        "\n",
        "plt.show()"
      ],
      "execution_count": 9,
      "outputs": [
        {
          "output_type": "display_data",
          "data": {
            "text/plain": [
              "<Figure size 432x288 with 1 Axes>"
            ],
            "image/png": "[encoded data removed]"
          },
          "metadata": {
            "needs_background": "light"
          }
        }
      ]
    },
    {
      "cell_type": "markdown",
      "metadata": {
        "id": "Xny977qN_f_f"
      },
      "source": [
        "---\n",
        "### **2.3 Multiple bar plot - Example - 1**\n",
        "---"
      ]
    },
    {
      "cell_type": "code",
      "metadata": {
        "colab": {
          "base_uri": "https://localhost:8080/",
          "height": 295
        },
        "id": "JXsAol2L_f_h",
        "outputId": "1a788c84-a3b0-4a5d-82bc-55a15c344e73"
      },
      "source": [
        "x1 = [0.25, 1.25, 2.25, 3.25, 4.25]\n",
        "y1 = [50, 40, 70, 80, 20]\n",
        "\n",
        "plt.bar(x1, y1, label=\"BMW\", color='r')\n",
        "\n",
        "x2 = [.75, 1.75, 2.75, 3.75, 4.75]\n",
        "y2 = [80, 20, 20, 50, 60]\n",
        "plt.bar(x2, y2, label=\"Audi\", color='y')\n",
        "\n",
        "plt.xlabel('Days')\n",
        "plt.ylabel('Distance (kms)')\n",
        "plt.title('Information')\n",
        "\n",
        "plt.legend()\n",
        "plt.show()\n"
      ],
      "execution_count": 10,
      "outputs": [
        {
          "output_type": "display_data",
          "data": {
            "text/plain": [
              "<Figure size 432x288 with 1 Axes>"
            ],
            "image/png": "[encoded data removed]"
          },
          "metadata": {
            "needs_background": "light"
          }
        }
      ]
    },
    {
      "cell_type": "markdown",
      "metadata": {
        "id": "Xk5XRRV8_gMq"
      },
      "source": [
        "---\n",
        "### **2.4 Multiple bar plot - Example - 2**\n",
        "---"
      ]
    },
    {
      "cell_type": "code",
      "metadata": {
        "colab": {
          "base_uri": "https://localhost:8080/",
          "height": 295
        },
        "id": "w8scyduB_gMr",
        "outputId": "6308aabd-1bdf-46d7-d3e8-bb6d13ca1616"
      },
      "source": [
        "x1 = [0.25, 1.25, 2.25, 3.25, 4.25]\n",
        "y1 = [50, 40, 70, 80, 20]\n",
        "plt.bar(x1, y1, label=\"Enfield\", width=0.5)\n",
        "\n",
        "x2 = [0.26, 1.25, 2.25, 3.25, 4.25]\n",
        "y2 = [80, 20, 20, 50, 60]\n",
        "plt.bar(x2, y2, label=\"Honda\", color='r', width=.5)\n",
        "\n",
        "x3 = [0.31, 1.5, 2.5, 3.5, 4.5]\n",
        "y3 = [70, 20, 60, 40, 60]\n",
        "plt.bar(x3, y3, label=\"Yamaha\", color='y', width=.5)\n",
        "\n",
        "x4 = [.75, 1.75, 2.75, 3.75, 4.75]\n",
        "y4 = [80, 20, 20, 50, 60]\n",
        "plt.bar(x4, y4, label=\"KTM\", color='g', width=.5)\n",
        "\n",
        "plt.legend()\n",
        "plt.xlabel('Days')\n",
        "plt.ylabel('Distance (kms)')\n",
        "\n",
        "plt.title('Bikes details in BAR PLOTTING')\n",
        "\n",
        "plt.show()\n"
      ],
      "execution_count": 11,
      "outputs": [
        {
          "output_type": "display_data",
          "data": {
            "text/plain": [
              "<Figure size 432x288 with 1 Axes>"
            ],
            "image/png": "[encoded data removed]"
          },
          "metadata": {
            "needs_background": "light"
          }
        }
      ]
    },
    {
      "cell_type": "markdown",
      "metadata": {
        "id": "_NNQrHRXAZ8a"
      },
      "source": [
        "---\n",
        "### **2.5 Horizontal Bar Plot (barh)**\n",
        "---"
      ]
    },
    {
      "cell_type": "code",
      "metadata": {
        "colab": {
          "base_uri": "https://localhost:8080/",
          "height": 265
        },
        "id": "18Im8yX7AZ8a",
        "outputId": "18603dac-9fb4-4b6e-a22b-ba2937da944b"
      },
      "source": [
        "x = [5, 6, 3, 7, 2]\n",
        "y = [\"A\", \"B\", \"C\", \"D\", \"E\"]\n",
        "\n",
        "plt.barh(y, x, color =\"orange\")\n",
        "\n",
        "plt.show()"
      ],
      "execution_count": 29,
      "outputs": [
        {
          "output_type": "display_data",
          "data": {
            "text/plain": [
              "<Figure size 432x288 with 1 Axes>"
            ],
            "image/png": "[encoded data removed]"
          },
          "metadata": {
            "needs_background": "light"
          }
        }
      ]
    },
    {
      "cell_type": "markdown",
      "metadata": {
        "id": "Meq_Hv4RAaHS"
      },
      "source": [
        "---\n",
        "# **3. Scatter plot**\n",
        "---\n",
        "### **3.1 Simple Scatter plot**"
      ]
    },
    {
      "cell_type": "code",
      "metadata": {
        "colab": {
          "base_uri": "https://localhost:8080/",
          "height": 265
        },
        "id": "EvPN2wvOAaHT",
        "outputId": "cecfd643-f4b6-4585-f55f-ef5cfe9c9559"
      },
      "source": [
        "x = [5, 2, 9, 4, 7]     # x-axis values \n",
        "y = [10, 5, 8, 4, 2]    # Y-axis values \n",
        "\n",
        "plt.scatter(x, y)       # Function to plot scatter \n",
        "\n",
        "plt.show()              # function to show the plot "
      ],
      "execution_count": 13,
      "outputs": [
        {
          "output_type": "display_data",
          "data": {
            "text/plain": [
              "<Figure size 432x288 with 1 Axes>"
            ],
            "image/png": "[encoded data removed]"
          },
          "metadata": {
            "needs_background": "light"
          }
        }
      ]
    },
    {
      "cell_type": "markdown",
      "metadata": {
        "id": "aZErlsXYAaPu"
      },
      "source": [
        "---\n",
        "### **3.2 Scatter plot with detail**\n",
        "---"
      ]
    },
    {
      "cell_type": "code",
      "metadata": {
        "colab": {
          "base_uri": "https://localhost:8080/",
          "height": 295
        },
        "id": "ddCg6qxQAaPv",
        "outputId": "83b724a9-3b11-46d1-fa98-c25bc7388b95"
      },
      "source": [
        "x = [35, 20, 29, 40, 57]     \t\t# x-axis values \n",
        "y = [100, 50, 80, 40, 200]      # Y-axis values \n",
        "\n",
        "plt.scatter(x, y)         \t\t\t# Function to plot scatter \n",
        "\n",
        "plt.xlabel('Salary * 1000')\n",
        "plt.ylabel('Age)')\n",
        "plt.title('Age Vs Salary')\n",
        "\n",
        "plt.show()               \t\t\t\t# function to show the plot "
      ],
      "execution_count": 14,
      "outputs": [
        {
          "output_type": "display_data",
          "data": {
            "text/plain": [
              "<Figure size 432x288 with 1 Axes>"
            ],
            "image/png": "[encoded data removed]"
          },
          "metadata": {
            "needs_background": "light"
          }
        }
      ]
    },
    {
      "cell_type": "markdown",
      "metadata": {
        "id": "UucWFIAt_gV_"
      },
      "source": [
        "---\n",
        "### **3.3 Multiple scatter plot**\n",
        "---"
      ]
    },
    {
      "cell_type": "code",
      "metadata": {
        "colab": {
          "base_uri": "https://localhost:8080/",
          "height": 295
        },
        "id": "cD3y-1lM_gWB",
        "outputId": "56b3c5ab-690e-4f73-b45c-f93f7cd286d0"
      },
      "source": [
        "x1 = [1, 1.5, 2, 2.5, 3, 3.5, 3.6]\n",
        "y1 = [7.5, 8, 8.5, 9, 9.5, 10, 10.5]\n",
        "\n",
        "x2 = [8, 8.5, 9, 9.5, 10, 10.5, 11]\n",
        "y2 = [3, 3.5, 3.7, 4, 4.5, 5, 5.2]\n",
        "\n",
        "plt.scatter(x1, y1, label='High income low saving',  color='r')\n",
        "plt.scatter(x2, y2, label='Low income high savings', color='b')\n",
        "\n",
        "plt.xlabel('Saving*100')\n",
        "plt.ylabel('Income*1000')\n",
        "plt.title('Scatter Plot')\n",
        "\n",
        "plt.legend()\n",
        "\n",
        "plt.grid()\n",
        "plt.show()"
      ],
      "execution_count": 15,
      "outputs": [
        {
          "output_type": "display_data",
          "data": {
            "text/plain": [
              "<Figure size 432x288 with 1 Axes>"
            ],
            "image/png": "[encoded data removed]"
          },
          "metadata": {
            "needs_background": "light"
          }
        }
      ]
    },
    {
      "cell_type": "markdown",
      "metadata": {
        "id": "6eraxEhZCJRU"
      },
      "source": [
        "---\n",
        "# **4. Pie plot**\n",
        "---\n",
        "### **4.1 Simple Pie plot**"
      ]
    },
    {
      "cell_type": "code",
      "metadata": {
        "colab": {
          "base_uri": "https://localhost:8080/",
          "height": 248
        },
        "id": "63a8CKQ9CJRV",
        "outputId": "b2130723-cd43-4f8c-8805-260d8aea16c6"
      },
      "source": [
        "grades = 'A', 'A-', 'B', 'B-', 'C', 'E'\n",
        "gradeCount = [50, 60, 140, 160, 30, 20]\n",
        "\n",
        "plt.pie(gradeCount, labels=grades, autopct='%1.2f%%')\n",
        "\n",
        "plt.show()\n",
        "\n",
        "# Question: What is the output?\n",
        "#print(type(grades))"
      ],
      "execution_count": 32,
      "outputs": [
        {
          "output_type": "display_data",
          "data": {
            "text/plain": [
              "<Figure size 432x288 with 1 Axes>"
            ],
            "image/png": "[encoded data removed]"
          },
          "metadata": {}
        }
      ]
    },
    {
      "cell_type": "markdown",
      "metadata": {
        "id": "zPayD7lwCJRW"
      },
      "source": [
        "---\n",
        "### **4.2 Pie plot - Explode - 1**\n",
        "---"
      ]
    },
    {
      "cell_type": "code",
      "metadata": {
        "colab": {
          "base_uri": "https://localhost:8080/",
          "height": 248
        },
        "id": "I2ohfxlRCJRW",
        "outputId": "2148c326-dd68-4809-a5d4-4543c494e2bb"
      },
      "source": [
        "labels = 'Python', 'C++', 'Ruby', 'Java'\n",
        "sizes = [215, 130, 245, 210]\n",
        "\n",
        "colors = ['gold', 'yellowgreen', 'lightcoral', 'lightskyblue']\n",
        "explode = (0.2, 0, 0, 0)  # explode 1st slice\n",
        "\n",
        "# Plot\n",
        "plt.pie(sizes, explode=explode, labels=labels, colors=colors,\n",
        "        autopct='%1.1f%%', shadow=True)\n",
        "\n",
        "plt.axis('equal')\n",
        "plt.show()"
      ],
      "execution_count": 17,
      "outputs": [
        {
          "output_type": "display_data",
          "data": {
            "text/plain": [
              "<Figure size 432x288 with 1 Axes>"
            ],
            "image/png": "[encoded data removed]"
          },
          "metadata": {}
        }
      ]
    },
    {
      "cell_type": "markdown",
      "metadata": {
        "id": "861tynfFCJRX"
      },
      "source": [
        "---\n",
        "### **4.3 Pie plot - Explode - 2**\n",
        "---"
      ]
    },
    {
      "cell_type": "code",
      "metadata": {
        "colab": {
          "base_uri": "https://localhost:8080/",
          "height": 264
        },
        "id": "q37Sy99JCJRZ",
        "outputId": "12223726-e57e-464e-a709-016ee1f9fced"
      },
      "source": [
        "share = [3,4,2,1]\n",
        "bikes = ['Enfield','Honda','Yahama','KTM']\n",
        "\n",
        "plt.pie(share, labels=bikes, shadow= True, explode=(0,0.1,0,0), \n",
        "        autopct='%1.1f%%')\n",
        "\n",
        "plt.title('Bike Shares')\n",
        "\n",
        "plt.show()"
      ],
      "execution_count": 18,
      "outputs": [
        {
          "output_type": "display_data",
          "data": {
            "text/plain": [
              "<Figure size 432x288 with 1 Axes>"
            ],
            "image/png": "[encoded data removed]"
          },
          "metadata": {}
        }
      ]
    },
    {
      "cell_type": "markdown",
      "metadata": {
        "id": "_dC1CuVnDipZ"
      },
      "source": [
        "---\n",
        "# **5 Working with user Dataset**\n",
        "\n",
        "---\n",
        "### **5.1 Download NBA Dataset**\n",
        "\n",
        "<a href=\"https://drive.google.com/file/d/1L7rgbbV4I10J28eRWq0oUMNVoDMSaYwo/view?usp=sharing\">Click Here</a> to download NBA Dataset\n",
        "\n",
        "\n",
        "\n"
      ]
    },
    {
      "cell_type": "markdown",
      "metadata": {
        "id": "ygKAg2QjDipc"
      },
      "source": [
        "---\n",
        "### **5.2 Upload \"user file\" to \"content\" directory of Google Colab**\n",
        "---\n",
        "\n",
        "- Step 1: On Left Side, click on Directory icon\n",
        "- Step 2: Click on Content\n",
        "- Step 3: Click on Three Dots and upload"
      ]
    },
    {
      "cell_type": "markdown",
      "metadata": {
        "id": "Du0ZcMG8sZem"
      },
      "source": [
        "---\n",
        "### **5.3 Read NBA Dataset**\n",
        "---\n"
      ]
    },
    {
      "cell_type": "code",
      "metadata": {
        "colab": {
          "base_uri": "https://localhost:8080/",
          "height": 363
        },
        "id": "sg8feM_YDipc",
        "outputId": "e480e61a-b9ef-4f2f-c4f0-e1f72897073a"
      },
      "source": [
        "import pandas as pd\n",
        "import matplotlib.pyplot as plt\n",
        "\n",
        "df = pd.read_csv('nbaDataset.csv')\n",
        "df.head()"
      ],
      "execution_count": 19,
      "outputs": [
        {
          "output_type": "error",
          "ename": "FileNotFoundError",
          "evalue": "ignored",
          "traceback": [
            "\u001b[0;31m---------------------------------------------------------------------------\u001b[0m",
            "\u001b[0;31mFileNotFoundError\u001b[0m                         Traceback (most recent call last)",
            "\u001b[0;32m<ipython-input-19-ece8fab7f230>\u001b[0m in \u001b[0;36m<module>\u001b[0;34m()\u001b[0m\n\u001b[1;32m      2\u001b[0m \u001b[0;32mimport\u001b[0m \u001b[0mmatplotlib\u001b[0m\u001b[0;34m.\u001b[0m\u001b[0mpyplot\u001b[0m \u001b[0;32mas\u001b[0m \u001b[0mplt\u001b[0m\u001b[0;34m\u001b[0m\u001b[0;34m\u001b[0m\u001b[0m\n\u001b[1;32m      3\u001b[0m \u001b[0;34m\u001b[0m\u001b[0m\n\u001b[0;32m----> 4\u001b[0;31m \u001b[0mdf\u001b[0m \u001b[0;34m=\u001b[0m \u001b[0mpd\u001b[0m\u001b[0;34m.\u001b[0m\u001b[0mread_csv\u001b[0m\u001b[0;34m(\u001b[0m\u001b[0;34m'nbaDataset.csv'\u001b[0m\u001b[0;34m)\u001b[0m\u001b[0;34m\u001b[0m\u001b[0;34m\u001b[0m\u001b[0m\n\u001b[0m\u001b[1;32m      5\u001b[0m \u001b[0mdf\u001b[0m\u001b[0;34m.\u001b[0m\u001b[0mhead\u001b[0m\u001b[0;34m(\u001b[0m\u001b[0;34m)\u001b[0m\u001b[0;34m\u001b[0m\u001b[0;34m\u001b[0m\u001b[0m\n",
            "\u001b[0;32m/usr/local/lib/python3.7/dist-packages/pandas/util/_decorators.py\u001b[0m in \u001b[0;36mwrapper\u001b[0;34m(*args, **kwargs)\u001b[0m\n\u001b[1;32m    309\u001b[0m                     \u001b[0mstacklevel\u001b[0m\u001b[0;34m=\u001b[0m\u001b[0mstacklevel\u001b[0m\u001b[0;34m,\u001b[0m\u001b[0;34m\u001b[0m\u001b[0;34m\u001b[0m\u001b[0m\n\u001b[1;32m    310\u001b[0m                 )\n\u001b[0;32m--> 311\u001b[0;31m             \u001b[0;32mreturn\u001b[0m \u001b[0mfunc\u001b[0m\u001b[0;34m(\u001b[0m\u001b[0;34m*\u001b[0m\u001b[0margs\u001b[0m\u001b[0;34m,\u001b[0m \u001b[0;34m**\u001b[0m\u001b[0mkwargs\u001b[0m\u001b[0;34m)\u001b[0m\u001b[0;34m\u001b[0m\u001b[0;34m\u001b[0m\u001b[0m\n\u001b[0m\u001b[1;32m    312\u001b[0m \u001b[0;34m\u001b[0m\u001b[0m\n\u001b[1;32m    313\u001b[0m         \u001b[0;32mreturn\u001b[0m \u001b[0mwrapper\u001b[0m\u001b[0;34m\u001b[0m\u001b[0;34m\u001b[0m\u001b[0m\n",
            "\u001b[0;32m/usr/local/lib/python3.7/dist-packages/pandas/io/parsers/readers.py\u001b[0m in \u001b[0;36mread_csv\u001b[0;34m(filepath_or_buffer, sep, delimiter, header, names, index_col, usecols, squeeze, prefix, mangle_dupe_cols, dtype, engine, converters, true_values, false_values, skipinitialspace, skiprows, skipfooter, nrows, na_values, keep_default_na, na_filter, verbose, skip_blank_lines, parse_dates, infer_datetime_format, keep_date_col, date_parser, dayfirst, cache_dates, iterator, chunksize, compression, thousands, decimal, lineterminator, quotechar, quoting, doublequote, escapechar, comment, encoding, encoding_errors, dialect, error_bad_lines, warn_bad_lines, on_bad_lines, delim_whitespace, low_memory, memory_map, float_precision, storage_options)\u001b[0m\n\u001b[1;32m    584\u001b[0m     \u001b[0mkwds\u001b[0m\u001b[0;34m.\u001b[0m\u001b[0mupdate\u001b[0m\u001b[0;34m(\u001b[0m\u001b[0mkwds_defaults\u001b[0m\u001b[0;34m)\u001b[0m\u001b[0;34m\u001b[0m\u001b[0;34m\u001b[0m\u001b[0m\n\u001b[1;32m    585\u001b[0m \u001b[0;34m\u001b[0m\u001b[0m\n\u001b[0;32m--> 586\u001b[0;31m     \u001b[0;32mreturn\u001b[0m \u001b[0m_read\u001b[0m\u001b[0;34m(\u001b[0m\u001b[0mfilepath_or_buffer\u001b[0m\u001b[0;34m,\u001b[0m \u001b[0mkwds\u001b[0m\u001b[0;34m)\u001b[0m\u001b[0;34m\u001b[0m\u001b[0;34m\u001b[0m\u001b[0m\n\u001b[0m\u001b[1;32m    587\u001b[0m \u001b[0;34m\u001b[0m\u001b[0m\n\u001b[1;32m    588\u001b[0m \u001b[0;34m\u001b[0m\u001b[0m\n",
            "\u001b[0;32m/usr/local/lib/python3.7/dist-packages/pandas/io/parsers/readers.py\u001b[0m in \u001b[0;36m_read\u001b[0;34m(filepath_or_buffer, kwds)\u001b[0m\n\u001b[1;32m    480\u001b[0m \u001b[0;34m\u001b[0m\u001b[0m\n\u001b[1;32m    481\u001b[0m     \u001b[0;31m# Create the parser.\u001b[0m\u001b[0;34m\u001b[0m\u001b[0;34m\u001b[0m\u001b[0;34m\u001b[0m\u001b[0m\n\u001b[0;32m--> 482\u001b[0;31m     \u001b[0mparser\u001b[0m \u001b[0;34m=\u001b[0m \u001b[0mTextFileReader\u001b[0m\u001b[0;34m(\u001b[0m\u001b[0mfilepath_or_buffer\u001b[0m\u001b[0;34m,\u001b[0m \u001b[0;34m**\u001b[0m\u001b[0mkwds\u001b[0m\u001b[0;34m)\u001b[0m\u001b[0;34m\u001b[0m\u001b[0;34m\u001b[0m\u001b[0m\n\u001b[0m\u001b[1;32m    483\u001b[0m \u001b[0;34m\u001b[0m\u001b[0m\n\u001b[1;32m    484\u001b[0m     \u001b[0;32mif\u001b[0m \u001b[0mchunksize\u001b[0m \u001b[0;32mor\u001b[0m \u001b[0miterator\u001b[0m\u001b[0;34m:\u001b[0m\u001b[0;34m\u001b[0m\u001b[0;34m\u001b[0m\u001b[0m\n",
            "\u001b[0;32m/usr/local/lib/python3.7/dist-packages/pandas/io/parsers/readers.py\u001b[0m in \u001b[0;36m__init__\u001b[0;34m(self, f, engine, **kwds)\u001b[0m\n\u001b[1;32m    809\u001b[0m             \u001b[0mself\u001b[0m\u001b[0;34m.\u001b[0m\u001b[0moptions\u001b[0m\u001b[0;34m[\u001b[0m\u001b[0;34m\"has_index_names\"\u001b[0m\u001b[0;34m]\u001b[0m \u001b[0;34m=\u001b[0m \u001b[0mkwds\u001b[0m\u001b[0;34m[\u001b[0m\u001b[0;34m\"has_index_names\"\u001b[0m\u001b[0;34m]\u001b[0m\u001b[0;34m\u001b[0m\u001b[0;34m\u001b[0m\u001b[0m\n\u001b[1;32m    810\u001b[0m \u001b[0;34m\u001b[0m\u001b[0m\n\u001b[0;32m--> 811\u001b[0;31m         \u001b[0mself\u001b[0m\u001b[0;34m.\u001b[0m\u001b[0m_engine\u001b[0m \u001b[0;34m=\u001b[0m \u001b[0mself\u001b[0m\u001b[0;34m.\u001b[0m\u001b[0m_make_engine\u001b[0m\u001b[0;34m(\u001b[0m\u001b[0mself\u001b[0m\u001b[0;34m.\u001b[0m\u001b[0mengine\u001b[0m\u001b[0;34m)\u001b[0m\u001b[0;34m\u001b[0m\u001b[0;34m\u001b[0m\u001b[0m\n\u001b[0m\u001b[1;32m    812\u001b[0m \u001b[0;34m\u001b[0m\u001b[0m\n\u001b[1;32m    813\u001b[0m     \u001b[0;32mdef\u001b[0m \u001b[0mclose\u001b[0m\u001b[0;34m(\u001b[0m\u001b[0mself\u001b[0m\u001b[0;34m)\u001b[0m\u001b[0;34m:\u001b[0m\u001b[0;34m\u001b[0m\u001b[0;34m\u001b[0m\u001b[0m\n",
            "\u001b[0;32m/usr/local/lib/python3.7/dist-packages/pandas/io/parsers/readers.py\u001b[0m in \u001b[0;36m_make_engine\u001b[0;34m(self, engine)\u001b[0m\n\u001b[1;32m   1038\u001b[0m             )\n\u001b[1;32m   1039\u001b[0m         \u001b[0;31m# error: Too many arguments for \"ParserBase\"\u001b[0m\u001b[0;34m\u001b[0m\u001b[0;34m\u001b[0m\u001b[0;34m\u001b[0m\u001b[0m\n\u001b[0;32m-> 1040\u001b[0;31m         \u001b[0;32mreturn\u001b[0m \u001b[0mmapping\u001b[0m\u001b[0;34m[\u001b[0m\u001b[0mengine\u001b[0m\u001b[0;34m]\u001b[0m\u001b[0;34m(\u001b[0m\u001b[0mself\u001b[0m\u001b[0;34m.\u001b[0m\u001b[0mf\u001b[0m\u001b[0;34m,\u001b[0m \u001b[0;34m**\u001b[0m\u001b[0mself\u001b[0m\u001b[0;34m.\u001b[0m\u001b[0moptions\u001b[0m\u001b[0;34m)\u001b[0m  \u001b[0;31m# type: ignore[call-arg]\u001b[0m\u001b[0;34m\u001b[0m\u001b[0;34m\u001b[0m\u001b[0m\n\u001b[0m\u001b[1;32m   1041\u001b[0m \u001b[0;34m\u001b[0m\u001b[0m\n\u001b[1;32m   1042\u001b[0m     \u001b[0;32mdef\u001b[0m \u001b[0m_failover_to_python\u001b[0m\u001b[0;34m(\u001b[0m\u001b[0mself\u001b[0m\u001b[0;34m)\u001b[0m\u001b[0;34m:\u001b[0m\u001b[0;34m\u001b[0m\u001b[0;34m\u001b[0m\u001b[0m\n",
            "\u001b[0;32m/usr/local/lib/python3.7/dist-packages/pandas/io/parsers/c_parser_wrapper.py\u001b[0m in \u001b[0;36m__init__\u001b[0;34m(self, src, **kwds)\u001b[0m\n\u001b[1;32m     49\u001b[0m \u001b[0;34m\u001b[0m\u001b[0m\n\u001b[1;32m     50\u001b[0m         \u001b[0;31m# open handles\u001b[0m\u001b[0;34m\u001b[0m\u001b[0;34m\u001b[0m\u001b[0;34m\u001b[0m\u001b[0m\n\u001b[0;32m---> 51\u001b[0;31m         \u001b[0mself\u001b[0m\u001b[0;34m.\u001b[0m\u001b[0m_open_handles\u001b[0m\u001b[0;34m(\u001b[0m\u001b[0msrc\u001b[0m\u001b[0;34m,\u001b[0m \u001b[0mkwds\u001b[0m\u001b[0;34m)\u001b[0m\u001b[0;34m\u001b[0m\u001b[0;34m\u001b[0m\u001b[0m\n\u001b[0m\u001b[1;32m     52\u001b[0m         \u001b[0;32massert\u001b[0m \u001b[0mself\u001b[0m\u001b[0;34m.\u001b[0m\u001b[0mhandles\u001b[0m \u001b[0;32mis\u001b[0m \u001b[0;32mnot\u001b[0m \u001b[0;32mNone\u001b[0m\u001b[0;34m\u001b[0m\u001b[0;34m\u001b[0m\u001b[0m\n\u001b[1;32m     53\u001b[0m \u001b[0;34m\u001b[0m\u001b[0m\n",
            "\u001b[0;32m/usr/local/lib/python3.7/dist-packages/pandas/io/parsers/base_parser.py\u001b[0m in \u001b[0;36m_open_handles\u001b[0;34m(self, src, kwds)\u001b[0m\n\u001b[1;32m    227\u001b[0m             \u001b[0mmemory_map\u001b[0m\u001b[0;34m=\u001b[0m\u001b[0mkwds\u001b[0m\u001b[0;34m.\u001b[0m\u001b[0mget\u001b[0m\u001b[0;34m(\u001b[0m\u001b[0;34m\"memory_map\"\u001b[0m\u001b[0;34m,\u001b[0m \u001b[0;32mFalse\u001b[0m\u001b[0;34m)\u001b[0m\u001b[0;34m,\u001b[0m\u001b[0;34m\u001b[0m\u001b[0;34m\u001b[0m\u001b[0m\n\u001b[1;32m    228\u001b[0m             \u001b[0mstorage_options\u001b[0m\u001b[0;34m=\u001b[0m\u001b[0mkwds\u001b[0m\u001b[0;34m.\u001b[0m\u001b[0mget\u001b[0m\u001b[0;34m(\u001b[0m\u001b[0;34m\"storage_options\"\u001b[0m\u001b[0;34m,\u001b[0m \u001b[0;32mNone\u001b[0m\u001b[0;34m)\u001b[0m\u001b[0;34m,\u001b[0m\u001b[0;34m\u001b[0m\u001b[0;34m\u001b[0m\u001b[0m\n\u001b[0;32m--> 229\u001b[0;31m             \u001b[0merrors\u001b[0m\u001b[0;34m=\u001b[0m\u001b[0mkwds\u001b[0m\u001b[0;34m.\u001b[0m\u001b[0mget\u001b[0m\u001b[0;34m(\u001b[0m\u001b[0;34m\"encoding_errors\"\u001b[0m\u001b[0;34m,\u001b[0m \u001b[0;34m\"strict\"\u001b[0m\u001b[0;34m)\u001b[0m\u001b[0;34m,\u001b[0m\u001b[0;34m\u001b[0m\u001b[0;34m\u001b[0m\u001b[0m\n\u001b[0m\u001b[1;32m    230\u001b[0m         )\n\u001b[1;32m    231\u001b[0m \u001b[0;34m\u001b[0m\u001b[0m\n",
            "\u001b[0;32m/usr/local/lib/python3.7/dist-packages/pandas/io/common.py\u001b[0m in \u001b[0;36mget_handle\u001b[0;34m(path_or_buf, mode, encoding, compression, memory_map, is_text, errors, storage_options)\u001b[0m\n\u001b[1;32m    705\u001b[0m                 \u001b[0mencoding\u001b[0m\u001b[0;34m=\u001b[0m\u001b[0mioargs\u001b[0m\u001b[0;34m.\u001b[0m\u001b[0mencoding\u001b[0m\u001b[0;34m,\u001b[0m\u001b[0;34m\u001b[0m\u001b[0;34m\u001b[0m\u001b[0m\n\u001b[1;32m    706\u001b[0m                 \u001b[0merrors\u001b[0m\u001b[0;34m=\u001b[0m\u001b[0merrors\u001b[0m\u001b[0;34m,\u001b[0m\u001b[0;34m\u001b[0m\u001b[0;34m\u001b[0m\u001b[0m\n\u001b[0;32m--> 707\u001b[0;31m                 \u001b[0mnewline\u001b[0m\u001b[0;34m=\u001b[0m\u001b[0;34m\"\"\u001b[0m\u001b[0;34m,\u001b[0m\u001b[0;34m\u001b[0m\u001b[0;34m\u001b[0m\u001b[0m\n\u001b[0m\u001b[1;32m    708\u001b[0m             )\n\u001b[1;32m    709\u001b[0m         \u001b[0;32melse\u001b[0m\u001b[0;34m:\u001b[0m\u001b[0;34m\u001b[0m\u001b[0;34m\u001b[0m\u001b[0m\n",
            "\u001b[0;31mFileNotFoundError\u001b[0m: [Errno 2] No such file or directory: 'nbaDataset.csv'"
          ]
        }
      ]
    },
    {
      "cell_type": "markdown",
      "metadata": {
        "id": "IFfREXc-s6d8"
      },
      "source": [
        "---\n",
        "### **5.4 Read sample data of Google Colab**\n",
        "---\n",
        "- Content --> sample_data --> Right Click on File --> Copy path\n"
      ]
    },
    {
      "cell_type": "code",
      "metadata": {
        "id": "n5LYUPUGs6d-"
      },
      "source": [
        "import pandas as pd\n",
        "import matplotlib.pyplot as plt\n",
        "\n",
        "df1 = pd.read_csv('/content/sample_data/california_housing_test.csv')\n",
        "df1.head()\n",
        "#df1.tail()"
      ],
      "execution_count": null,
      "outputs": []
    },
    {
      "cell_type": "markdown",
      "metadata": {
        "id": "cMBI2zEJDipd"
      },
      "source": [
        "---\n",
        "### **5.5 Read data file from Google Drive**\n",
        "---\n",
        "- Click on \"Mount Drive\" icon"
      ]
    },
    {
      "cell_type": "code",
      "source": [
        "import pandas as pd\n",
        "import matplotlib.pyplot as plt\n",
        "\n",
        "df = pd.read_csv('/content/drive/MyDrive/nbaDataset/nbaDataset.csv')\n",
        "df.head()\n"
      ],
      "metadata": {
        "id": "SmvXVAv9t6Ey"
      },
      "execution_count": null,
      "outputs": []
    },
    {
      "cell_type": "markdown",
      "metadata": {
        "id": "ltLfKXfKardd"
      },
      "source": [
        "---\n",
        "### **5.6 Bar graph**\n",
        "---"
      ]
    },
    {
      "cell_type": "code",
      "metadata": {
        "id": "s8KiiSKSardf"
      },
      "source": [
        "x = df['Age']\n",
        "y = df['Salary']\n",
        "\n",
        "plt.xlabel('Age')                                   \n",
        "plt.ylabel('Salary (in millions)')\n",
        "plt.title('Salary Vs Age')\n",
        "\n",
        "plt.bar(x, y, color = \"purple\")\n",
        "\n",
        "plt.show()"
      ],
      "execution_count": null,
      "outputs": []
    },
    {
      "cell_type": "markdown",
      "metadata": {
        "id": "6h9KDwe6wxk1"
      },
      "source": [
        "---\n",
        "### **5.7 Horizontal bar graph**\n",
        "---"
      ]
    },
    {
      "cell_type": "code",
      "metadata": {
        "id": "91nlqO34wxk2"
      },
      "source": [
        "x = df['Age']\n",
        "y = df['Salary']\n",
        "\n",
        "plt.xlabel('Age')                                   \n",
        "plt.ylabel('Salary (in millions)')\n",
        "plt.title('Salary Vs Age')\n",
        "\n",
        "plt.barh(x, y, color = \"green\")\n",
        "\n",
        "plt.show()"
      ],
      "execution_count": null,
      "outputs": []
    },
    {
      "cell_type": "markdown",
      "metadata": {
        "id": "u0ztR9rDw8Td"
      },
      "source": [
        "---\n",
        "### **5.8 Scatter plot**\n",
        "---"
      ]
    },
    {
      "cell_type": "code",
      "metadata": {
        "id": "jVVV7Tfzw8Tf"
      },
      "source": [
        "x = df['Age']\n",
        "y = df['Salary']\n",
        "\n",
        "plt.xlabel('Age')                                   \n",
        "plt.ylabel('Salary (in millions)')\n",
        "plt.title('Salary Vs Age')\n",
        "\n",
        "plt.scatter(x, y, marker = \"*\")\n",
        "\n",
        "# marker {'o','+','x','^','*','_'}\n",
        "\n",
        "plt.show()"
      ],
      "execution_count": null,
      "outputs": []
    },
    {
      "cell_type": "markdown",
      "metadata": {
        "id": "Il7Ehz-SxFG5"
      },
      "source": [
        "---\n",
        "# **6 Plotting Mathematical Functions**\n",
        "---\n",
        "### **6.1 Plot sine curve**"
      ]
    },
    {
      "cell_type": "code",
      "metadata": {
        "id": "Mr0C7fgxxFG8"
      },
      "source": [
        "# Compute the x and y coordinates for points on a sine curve \n",
        "import math as m\n",
        "import random as r\n",
        "\n",
        "x = [ m.pi * i  for i in range(0, 10)]\n",
        "y = [ m.sin(i) for i in x ]\n",
        "\n",
        "plt.plot(x, y)\n",
        "plt.title(\"sin(pi) wave form\")\n",
        "\n",
        "plt.show()"
      ],
      "execution_count": null,
      "outputs": []
    },
    {
      "cell_type": "markdown",
      "metadata": {
        "id": "oqNTjXZRxbkS"
      },
      "source": [
        "---\n",
        "### **6.2 Plot sine wave**\n",
        "---\n"
      ]
    },
    {
      "cell_type": "code",
      "metadata": {
        "id": "kvbWrytexbkW"
      },
      "source": [
        "import numpy as np\n",
        "\n",
        "# Compute the x and y coordinates for points on a sine curve \n",
        "x = np.arange(0, 4 * np.pi, 0.1) \n",
        "y = np.sin(x) \n",
        "\n",
        "plt.plot(x, y) \n",
        "plt.title(\"Sine wave form\")\n",
        "\n",
        "plt.show()"
      ],
      "execution_count": null,
      "outputs": []
    },
    {
      "cell_type": "markdown",
      "metadata": {
        "id": "8LiFkYa3xwL4"
      },
      "source": [
        "---\n",
        "### **6.3 Plot cos wave**\n",
        "---\n"
      ]
    },
    {
      "cell_type": "code",
      "metadata": {
        "id": "lq3fqZeOxwL6"
      },
      "source": [
        "import numpy as np\n",
        "\n",
        "# Compute the x and y coordinates for points on a sine curve \n",
        "x = np.arange(0, 4 * np.pi, 0.1) \n",
        "y = np.cos(x) \n",
        "\n",
        "plt.plot(x, y) \n",
        "plt.title(\"Cos wave form\")\n",
        "\n",
        "plt.show()"
      ],
      "execution_count": null,
      "outputs": []
    },
    {
      "cell_type": "markdown",
      "metadata": {
        "id": "-FT9HisNyBZ6"
      },
      "source": [
        "---\n",
        "# **7 Subplot**\n",
        "---\n",
        "### **7.1 Example-1**"
      ]
    },
    {
      "cell_type": "code",
      "metadata": {
        "id": "E6-sHHsXyBZ7"
      },
      "source": [
        "import numpy as np\n",
        "\n",
        "# Compute the x and y coordinates for points on sine and cosine curves \n",
        "x = np.arange(0, 5 * np.pi, 0.1) \n",
        "\n",
        "y_sin = np.sin(x) \n",
        "y_cos = np.cos(x)  \n",
        "   \n",
        "plt.plot(x, y_cos,'g--') \n",
        "plt.plot(x, y_sin,'r--') \n",
        "plt.title('Sine and Cosine')  \n",
        "   \n",
        "plt.show()"
      ],
      "execution_count": null,
      "outputs": []
    },
    {
      "cell_type": "markdown",
      "metadata": {
        "id": "56sK6EjIyRJD"
      },
      "source": [
        "---\n",
        "### **7.2 Example-2**\n",
        "---"
      ]
    },
    {
      "cell_type": "code",
      "metadata": {
        "id": "EbJ9pN-dyRJF"
      },
      "source": [
        "import numpy as np\n",
        "\n",
        "x = np.arange(0, 5 * np.pi, 0.1) \n",
        "\n",
        "y_sin = np.sin(x) \n",
        "y_cos = np.cos(x)  \n",
        "   \n",
        "# Set up a subplot grid that has height 2 and width 1, and \n",
        "#     set the first such subplot as active. \n",
        "plt.subplot(2, 1, 1)\n",
        "   \n",
        "# Make the first plot \n",
        "plt.plot(x, y_sin,'r--') \n",
        "plt.title('Sine')  \n",
        "   \n",
        "# Set the second subplot as active, and make the second plot\n",
        "plt.subplot(2, 1, 2) \n",
        "plt.plot(x, y_cos,'g--') \n",
        "plt.title('Cosine')  \n",
        "   \n",
        "plt.show()"
      ],
      "execution_count": null,
      "outputs": []
    },
    {
      "cell_type": "markdown",
      "metadata": {
        "id": "BwKlBE1yylE1"
      },
      "source": [
        "---\n",
        "# **8 Box Plot**\n",
        "---\n",
        "### **8.1 Data Generation**"
      ]
    },
    {
      "cell_type": "code",
      "metadata": {
        "id": "VDlHa-EnylE4"
      },
      "source": [
        "import numpy as np\n",
        "\n",
        "data = [np.random.normal(0, std, 100) for std in range(1, 4)]\n",
        "\n",
        "data"
      ],
      "execution_count": null,
      "outputs": []
    },
    {
      "cell_type": "markdown",
      "metadata": {
        "id": "tyPsx_nXy9Ao"
      },
      "source": [
        "---\n",
        "### **8.2 Box Plot - Vertical**\n",
        "---"
      ]
    },
    {
      "cell_type": "code",
      "metadata": {
        "id": "Ba1fSvXby9Aq"
      },
      "source": [
        "import matplotlib.pyplot as plt\n",
        "\n",
        "plt.boxplot(data)\n",
        "plt.show()\n"
      ],
      "execution_count": null,
      "outputs": []
    },
    {
      "cell_type": "markdown",
      "metadata": {
        "id": "GAFwcVolzWNT"
      },
      "source": [
        "---\n",
        "### **8.3 Box Plot - Horizontal**\n",
        "---"
      ]
    },
    {
      "cell_type": "code",
      "metadata": {
        "id": "07ymQK3jzWNV"
      },
      "source": [
        "import matplotlib.pyplot as plt\n",
        "\n",
        "plt.boxplot(data ,vert=False)\n",
        "plt.show()\n"
      ],
      "execution_count": null,
      "outputs": []
    },
    {
      "cell_type": "markdown",
      "metadata": {
        "id": "EXxxV11r7Vl3"
      },
      "source": [
        "---\n",
        "# **9 Plot Time Series**\n",
        "---\n",
        "### **9.1 Import libraries**"
      ]
    },
    {
      "cell_type": "code",
      "source": [
        "from pandas import read_csv\n",
        "from matplotlib import pyplot"
      ],
      "metadata": {
        "id": "yxoMjvBl7KWd"
      },
      "execution_count": null,
      "outputs": []
    },
    {
      "cell_type": "markdown",
      "metadata": {
        "id": "dWNofqC09tnJ"
      },
      "source": [
        "---\n",
        "### **9.2 Download timeSeries Dataset and upload it to Google drive**\n",
        "\n",
        "<a href=\"https://drive.google.com/file/d/1vAhUzlSOIWjNz7dlk6_jmR1VKq-Ui6Id/view?usp=sharing\">Click Here</a> to download timeSeries Dataset\n",
        "\n",
        "\n",
        "\n"
      ]
    },
    {
      "cell_type": "markdown",
      "source": [
        "### **9.3 Read Time Series Dataset**"
      ],
      "metadata": {
        "id": "kCg3xiCd9a5C"
      }
    },
    {
      "cell_type": "code",
      "source": [
        "series = read_csv('/content/drive/MyDrive/timeSeriesDataset/timeSeriesDataset.csv', header=0, index_col=0, parse_dates=True, squeeze=True)\n",
        "series.head(15)"
      ],
      "metadata": {
        "id": "Y-WKDoG_9a5D"
      },
      "execution_count": null,
      "outputs": []
    },
    {
      "cell_type": "markdown",
      "source": [
        "### **9.4 Minimum Daily Temperature Line Plot**"
      ],
      "metadata": {
        "id": "Z531k6Uq8FHj"
      }
    },
    {
      "cell_type": "code",
      "source": [
        "series.plot()\n",
        "pyplot.show()"
      ],
      "metadata": {
        "id": "gUcmbipV8FHl"
      },
      "execution_count": null,
      "outputs": []
    },
    {
      "cell_type": "markdown",
      "source": [
        "### **9.5 Minimum Daily Temperature Dot Plot**"
      ],
      "metadata": {
        "id": "Cqb3qkZ88FUW"
      }
    },
    {
      "cell_type": "code",
      "source": [
        "series.plot(style='k.')\n",
        "pyplot.show()"
      ],
      "metadata": {
        "id": "Nwp0iLKO8FUZ"
      },
      "execution_count": null,
      "outputs": []
    },
    {
      "cell_type": "markdown",
      "source": [
        "### **9.6 Minimum Daily Temperature Yearly Line Plots**"
      ],
      "metadata": {
        "id": "ovq_G_7g8FfI"
      }
    },
    {
      "cell_type": "code",
      "source": [
        "from pandas import DataFrame\n",
        "from pandas import Grouper\n",
        "\n",
        "groups = series.groupby(Grouper(freq='A'))\n",
        "years = DataFrame()\n",
        "for name, group in groups:\n",
        "    years[name.year] = group.values\n",
        "years.plot(subplots=True, legend=False)\n",
        "pyplot.show()"
      ],
      "metadata": {
        "id": "gV6C0WBm8FfJ"
      },
      "execution_count": null,
      "outputs": []
    },
    {
      "cell_type": "markdown",
      "source": [
        "### **9.7 Minimum Daily Temperature Histogram Plot**"
      ],
      "metadata": {
        "id": "KB9PO7i38Fni"
      }
    },
    {
      "cell_type": "code",
      "source": [
        "series.hist()\n",
        "pyplot.show()"
      ],
      "metadata": {
        "id": "L8iGyR0P8Fnj"
      },
      "execution_count": null,
      "outputs": []
    },
    {
      "cell_type": "markdown",
      "source": [
        "### **9.8 Minimum Daily Temperature Density Plot**"
      ],
      "metadata": {
        "id": "ddj0RQpM8Fv9"
      }
    },
    {
      "cell_type": "code",
      "source": [
        "series.plot(kind='kde')\n",
        "pyplot.show()"
      ],
      "metadata": {
        "id": "k6ZI_Fcr8Fv-"
      },
      "execution_count": null,
      "outputs": []
    },
    {
      "cell_type": "markdown",
      "source": [
        "### **9.9 Minimum Daily Temperature Yearly Box and Whisker Plots**"
      ],
      "metadata": {
        "id": "Vl5GR7vU8F3w"
      }
    },
    {
      "cell_type": "code",
      "source": [
        "from pandas import DataFrame\n",
        "from pandas import Grouper\n",
        "groups = series.groupby(Grouper(freq='A'))\n",
        "years = DataFrame()\n",
        "for name, group in groups:\n",
        "    years[name.year] = group.values\n",
        "years.boxplot()\n",
        "pyplot.show()"
      ],
      "metadata": {
        "id": "7_BoQWtP8F3x"
      },
      "execution_count": null,
      "outputs": []
    },
    {
      "cell_type": "markdown",
      "source": [
        "### **9.10 Minimum Daily Temperature Yearly Heat Map Plot**"
      ],
      "metadata": {
        "id": "xT2NYJBh8F_B"
      }
    },
    {
      "cell_type": "code",
      "source": [
        "from pandas import Grouper\n",
        "from matplotlib import pyplot\n",
        "groups = series.groupby(Grouper(freq='A'))\n",
        "years = DataFrame()\n",
        "for name, group in groups:\n",
        "    years[name.year] = group.values\n",
        "years = years.T\n",
        "pyplot.matshow(years, interpolation=None, aspect='auto')\n",
        "pyplot.show()"
      ],
      "metadata": {
        "id": "aT24eMAr8F_B"
      },
      "execution_count": null,
      "outputs": []
    },
    {
      "cell_type": "markdown",
      "source": [
        "### **9.11 Minimum Daily Temperature Lag Plot**"
      ],
      "metadata": {
        "id": "TvbI-ZRr8GGQ"
      }
    },
    {
      "cell_type": "code",
      "source": [
        "from pandas.plotting import lag_plot\n",
        "lag_plot(series)\n",
        "pyplot.show()"
      ],
      "metadata": {
        "id": "GjElzkbG8GGR"
      },
      "execution_count": null,
      "outputs": []
    },
    {
      "cell_type": "markdown",
      "source": [
        "### **9.12 Minimum Daily Temperature Autocorrelation Plot**"
      ],
      "metadata": {
        "id": "1XPENRxn8GNk"
      }
    },
    {
      "cell_type": "code",
      "source": [
        "from pandas.plotting import autocorrelation_plot\n",
        "autocorrelation_plot(series)\n",
        "pyplot.show()"
      ],
      "metadata": {
        "id": "ZpxXBweI8GNk"
      },
      "execution_count": null,
      "outputs": []
    }
  ]
}